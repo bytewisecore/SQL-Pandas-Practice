{
 "cells": [
  {
   "cell_type": "code",
   "execution_count": 4,
   "metadata": {},
   "outputs": [
    {
     "name": "stdout",
     "output_type": "stream",
     "text": [
      "['COD', 'VALORANT', 'NFS', 'GTA', 2229]\n"
     ]
    }
   ],
   "source": [
    "#creating list of games\n",
    "games = [\"COD\",\"VALORANT\",\"NFS\",\"GTA\",2229]\n",
    "print(games)"
   ]
  },
  {
   "cell_type": "code",
   "execution_count": 5,
   "metadata": {},
   "outputs": [
    {
     "data": {
      "text/plain": [
       "5"
      ]
     },
     "execution_count": 5,
     "metadata": {},
     "output_type": "execute_result"
    }
   ],
   "source": [
    "#checking length of list\n",
    "len(games)"
   ]
  },
  {
   "cell_type": "code",
   "execution_count": 6,
   "metadata": {},
   "outputs": [
    {
     "data": {
      "text/plain": [
       "'NFS'"
      ]
     },
     "execution_count": 6,
     "metadata": {},
     "output_type": "execute_result"
    }
   ],
   "source": [
    "#grabbing the value using index of list\n",
    "games[2]"
   ]
  },
  {
   "cell_type": "code",
   "execution_count": 7,
   "metadata": {},
   "outputs": [
    {
     "data": {
      "text/plain": [
       "['VALORANT', 'NFS']"
      ]
     },
     "execution_count": 7,
     "metadata": {},
     "output_type": "execute_result"
    }
   ],
   "source": [
    "#slicing the list\n",
    "games[1:3]"
   ]
  },
  {
   "cell_type": "code",
   "execution_count": 18,
   "metadata": {},
   "outputs": [
    {
     "name": "stdout",
     "output_type": "stream",
     "text": [
      "['COD', 'VALORANT', 'NFS', 'GTA', 2229, 'asdas', 'asdas', 'RDR2', 'RDR2', 'RDR2', 'RDR2']\n"
     ]
    }
   ],
   "source": [
    "#adding items to the same list\n",
    "\n",
    "games=games+[\"RDR2\"]\n",
    "print(games)"
   ]
  },
  {
   "cell_type": "code",
   "execution_count": 16,
   "metadata": {},
   "outputs": [
    {
     "name": "stdout",
     "output_type": "stream",
     "text": [
      "['COD', 'VALORANT', 'NFS', 'GTA', 2229, 'asdas', 'asdas', 'RDR2', 'RDR2', 'VCOP2', 'DEVOUR']\n"
     ]
    }
   ],
   "source": [
    "#adding items to the new list\n",
    "new_games=games+[\"VCOP2\",\"DEVOUR\"]\n",
    "print(new_games)"
   ]
  },
  {
   "cell_type": "code",
   "execution_count": 19,
   "metadata": {},
   "outputs": [
    {
     "data": {
      "text/plain": [
       "['COD',\n",
       " 'VALORANT',\n",
       " 'NFS',\n",
       " 'GTA',\n",
       " 2229,\n",
       " 'asdas',\n",
       " 'asdas',\n",
       " 'RDR2',\n",
       " 'RDR2',\n",
       " 'RDR2',\n",
       " 'RDR2',\n",
       " 'COD',\n",
       " 'VALORANT',\n",
       " 'NFS',\n",
       " 'GTA',\n",
       " 2229,\n",
       " 'asdas',\n",
       " 'asdas',\n",
       " 'RDR2',\n",
       " 'RDR2',\n",
       " 'RDR2',\n",
       " 'RDR2']"
      ]
     },
     "execution_count": 19,
     "metadata": {},
     "output_type": "execute_result"
    }
   ],
   "source": [
    "#double the list\n",
    "games*2"
   ]
  },
  {
   "cell_type": "code",
   "execution_count": 39,
   "metadata": {},
   "outputs": [
    {
     "name": "stdout",
     "output_type": "stream",
     "text": [
      "[4, 3, 2, 1]\n"
     ]
    }
   ],
   "source": [
    "#sorting in list\n",
    "listnum=[1,2,3,4]\n",
    "listnum.sort(reverse=True)\n",
    "print(listnum)"
   ]
  },
  {
   "cell_type": "code",
   "execution_count": 31,
   "metadata": {},
   "outputs": [
    {
     "name": "stdout",
     "output_type": "stream",
     "text": [
      "[1, 2, 3, 4, 5]\n"
     ]
    }
   ],
   "source": [
    "#Append the value at end of your list\n",
    "listnum.append(5)\n",
    "print(listnum)"
   ]
  },
  {
   "cell_type": "code",
   "execution_count": 40,
   "metadata": {},
   "outputs": [
    {
     "name": "stdout",
     "output_type": "stream",
     "text": [
      "[4, 3, 2]\n",
      "[4, 3]\n",
      "[4]\n"
     ]
    }
   ],
   "source": [
    "#deleting value from list\n",
    "\n",
    "#pop - to delete last value from list\n",
    "\n",
    "listnum.pop()\n",
    "print(listnum)\n",
    "\n",
    "#remove - to delete selected value \n",
    "\n",
    "listnum.remove(2)\n",
    "print(listnum)\n",
    "\n",
    "#del - to delete first value from list\n",
    "\n",
    "del(listnum[1])\n",
    "print(listnum)\n"
   ]
  },
  {
   "cell_type": "code",
   "execution_count": 42,
   "metadata": {},
   "outputs": [
    {
     "name": "stdout",
     "output_type": "stream",
     "text": [
      "[1, 1.1, 2, 3, 4, 5]\n"
     ]
    }
   ],
   "source": [
    "#inserting values in the list\n",
    "insertion_list=[1,2,3,4,5]\n",
    "insertion_list.insert(1,1.1)\n",
    "print(insertion_list)"
   ]
  },
  {
   "cell_type": "code",
   "execution_count": 47,
   "metadata": {},
   "outputs": [
    {
     "name": "stdout",
     "output_type": "stream",
     "text": [
      "[[1, 2, 3], [4, 5, 6], [7, 8, 9]]\n",
      "[4, 5, 6]\n"
     ]
    }
   ],
   "source": [
    "#matrix - multiple lists\n",
    "L1=[1,2,3]\n",
    "L2=[4,5,6]\n",
    "L3=[7,8,9]\n",
    "\n",
    "matrix=[L1,L2,L3]\n",
    "print(matrix)\n",
    "\n",
    "#to print certain index value\n",
    "print(matrix[1])"
   ]
  },
  {
   "cell_type": "code",
   "execution_count": 54,
   "metadata": {},
   "outputs": [
    {
     "name": "stdout",
     "output_type": "stream",
     "text": [
      "{1: 'chai', 2: 'coffee'}\n"
     ]
    },
    {
     "data": {
      "text/plain": [
       "'chai'"
      ]
     },
     "execution_count": 54,
     "metadata": {},
     "output_type": "execute_result"
    }
   ],
   "source": [
    "#creating dictionaries\n",
    "dict1={'key1':'value1','key2':'value2'}\n",
    "dict2={1:'chai',2:'coffee'}\n",
    "dict3={1:['chai','pani'],2:'coffee'}\n",
    "\n",
    "print(dict2)\n",
    "dict3[1][0]"
   ]
  },
  {
   "cell_type": "code",
   "execution_count": 55,
   "metadata": {},
   "outputs": [
    {
     "data": {
      "text/plain": [
       "str"
      ]
     },
     "execution_count": 55,
     "metadata": {},
     "output_type": "execute_result"
    }
   ],
   "source": [
    "#checking type of dictionaries\n",
    "type(dict3[1][0])"
   ]
  },
  {
   "cell_type": "code",
   "execution_count": 63,
   "metadata": {},
   "outputs": [
    {
     "name": "stdout",
     "output_type": "stream",
     "text": [
      "{1: {1.1: ['a', 'b', 'c'], 3.2: [1, 2, 3]}, 4: ['x', 'y', 'z']}\n"
     ]
    },
    {
     "data": {
      "text/plain": [
       "'b'"
      ]
     },
     "execution_count": 63,
     "metadata": {},
     "output_type": "execute_result"
    }
   ],
   "source": [
    "#nested dictionaries\n",
    "nestdict={1:{1.1:['a','b','c'],3.2:[1,2,3]},4:['x','y','z']}\n",
    "\n",
    "print(nestdict)\n",
    "nestdict[1][1.1][1]"
   ]
  },
  {
   "cell_type": "code",
   "execution_count": 66,
   "metadata": {},
   "outputs": [
    {
     "name": "stdout",
     "output_type": "stream",
     "text": [
      "('ab', 'bc', 'cd')\n"
     ]
    }
   ],
   "source": [
    "#tuple - constant values that cannot be changed\n",
    "T1=('ab','bc','cd')\n",
    "\n",
    "print(T1)"
   ]
  },
  {
   "cell_type": "code",
   "execution_count": 71,
   "metadata": {},
   "outputs": [
    {
     "name": "stdout",
     "output_type": "stream",
     "text": [
      "{1, 2, 3}\n"
     ]
    }
   ],
   "source": [
    "#sets  - uniqely defined elements\n",
    "S1={1,2,3}\n",
    "print(S1)\n"
   ]
  }
 ],
 "metadata": {
  "kernelspec": {
   "display_name": "Python 3",
   "language": "python",
   "name": "python3"
  },
  "language_info": {
   "codemirror_mode": {
    "name": "ipython",
    "version": 3
   },
   "file_extension": ".py",
   "mimetype": "text/x-python",
   "name": "python",
   "nbconvert_exporter": "python",
   "pygments_lexer": "ipython3",
   "version": "3.8.5"
  }
 },
 "nbformat": 4,
 "nbformat_minor": 4
}
