{
 "cells": [
  {
   "cell_type": "raw",
   "id": "870eb5a1",
   "metadata": {},
   "source": [
    "\n",
    "# Program to calculate Highest marks from list of students"
   ]
  },
  {
   "cell_type": "code",
   "execution_count": null,
   "id": "c6a02ea4",
   "metadata": {},
   "outputs": [],
   "source": [
    "num = int(input(\"Enter total number of students: \"))\n",
    "students = {}"
   ]
  },
  {
   "cell_type": "code",
   "execution_count": null,
   "id": "c5172b29",
   "metadata": {
    "scrolled": true
   },
   "outputs": [],
   "source": [
    "for s in range(num):\n",
    "    rollno = int(input(\"Enter roll no: \"))\n",
    "    name = input(\"Enter name: \")\n",
    "    marks = int(input(\"Enter marks: \"))\n",
    "    students[rollno] = [name, marks]"
   ]
  },
  {
   "cell_type": "code",
   "execution_count": null,
   "id": "f6731c2a",
   "metadata": {},
   "outputs": [],
   "source": [
    "students"
   ]
  },
  {
   "cell_type": "code",
   "execution_count": null,
   "id": "617a5b6f",
   "metadata": {},
   "outputs": [],
   "source": [
    "highest = 0\n",
    "name = \"\"\n",
    "for key in students:\n",
    "    if(students[key][1] > highest):\n",
    "        highest = students[key][1]\n",
    "        name = students[key][0]"
   ]
  },
  {
   "cell_type": "code",
   "execution_count": null,
   "id": "2c18c039",
   "metadata": {
    "scrolled": true
   },
   "outputs": [],
   "source": [
    "print(\"Highest marks are \" + str(highest) + \" of \" + name)"
   ]
  }
 ],
 "metadata": {
  "kernelspec": {
   "display_name": "Python 3",
   "language": "python",
   "name": "python3"
  },
  "language_info": {
   "codemirror_mode": {
    "name": "ipython",
    "version": 3
   },
   "file_extension": ".py",
   "mimetype": "text/x-python",
   "name": "python",
   "nbconvert_exporter": "python",
   "pygments_lexer": "ipython3",
   "version": "3.8.8"
  }
 },
 "nbformat": 4,
 "nbformat_minor": 5
}
